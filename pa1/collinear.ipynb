{
 "cells": [
  {
   "cell_type": "code",
   "execution_count": 23,
   "metadata": {
    "ExecuteTime": {
     "end_time": "2018-09-15T19:49:52.287044Z",
     "start_time": "2018-09-15T19:49:47.056923Z"
    }
   },
   "outputs": [],
   "source": [
    "from pyspark import SparkContext\n",
    "# from pyspark.RDD import rdd\n",
    "\n",
    "sc = SparkContext(master = \"local[4]\")\n",
    "\n"
   ]
  },
  {
   "cell_type": "code",
   "execution_count": 114,
   "metadata": {
    "ExecuteTime": {
     "end_time": "2018-09-21T22:22:29.579851Z",
     "start_time": "2018-09-21T22:22:28.804533Z"
    },
    "scrolled": true
   },
   "outputs": [
    {
     "name": "stdout",
     "output_type": "stream",
     "text": [
      "[[(2, 0), (1, 1), (0, 2)], [(0, 7), (0, 5), (0, 4), (0, 3), (0, 8), (0, 2)], [(1, 2), (1, 3), (1, 5), (1, 8), (1, 6), (1, 0), (1, 1)], [(1, 8), (0, 8), (7, 8)], [(0, 8), (4, 6), (6, 5)], [(4, 5), (7, 8), (8, 9), (1, 2)], [(1, 5), (3, 1), (0, 7)], [(0, 8), (1, 6), (2, 4)], [(1, 2), (2, 4), (3, 6)], [(7, 3), (1, 3), (3, 3), (9, 3), (4, 3), (0, 3)], [(1, 5), (3, 3), (6, 0), (2, 4)], [(4, 5), (6, 9), (5, 7), (3, 3)], [(4, 5), (4, 6), (4, 3)], [(1, 6), (3, 3), (5, 0)], [(1, 5), (5, 7), (7, 8), (3, 6)], [(8, 9), (2, 5), (5, 7)], [(5, 9), (5, 7), (5, 2), (5, 0)], [(8, 9), (7, 6), (5, 0)], [(9, 5), (7, 6), (5, 7)], [(5, 2), (6, 0), (3, 6)], [(5, 9), (7, 6), (9, 3)], [(0, 2), (3, 1), (6, 0)], [(1, 2), (2, 0), (0, 4)], [(7, 3), (3, 1), (9, 4), (1, 0), (5, 2)], [(8, 1), (6, 1), (3, 1), (1, 1)], [(1, 2), (3, 1), (5, 0)], [(8, 9), (2, 0), (4, 3)], [(7, 4), (2, 4), (9, 4), (0, 4)], [(2, 5), (4, 6), (0, 4)], [(4, 5), (5, 9), (3, 1)], [(7, 8), (6, 5), (5, 2)], [(9, 3), (5, 2), (1, 1)], [(7, 4), (9, 3), (3, 6)], [(8, 1), (7, 3), (5, 7), (6, 5)], [(7, 3), (7, 6), (7, 4), (7, 8), (7, 2)], [(1, 3), (4, 6), (0, 2), (5, 7), (2, 4)], [(9, 4), (3, 6), (6, 5), (0, 7)], [(2, 0), (1, 0), (6, 0), (5, 0)], [(4, 5), (1, 5), (0, 5), (9, 5), (2, 5), (6, 5)], [(8, 1), (0, 5), (2, 4), (4, 3)], [(1, 2), (7, 4), (4, 3)], [(2, 0), (2, 5), (2, 4)], [(3, 1), (3, 3), (3, 6)], [(5, 9), (1, 5), (0, 4)], [(7, 4), (1, 8), (4, 6)], [(7, 6), (1, 6), (4, 6), (3, 6)], [(6, 1), (0, 7), (1, 6), (4, 3), (2, 5), (5, 2)], [(8, 1), (4, 5), (1, 8), (3, 6), (7, 2)], [(5, 9), (1, 3), (3, 6)], [(6, 1), (0, 5), (3, 3)], [(8, 9), (5, 9), (6, 9)], [(1, 2), (5, 2), (0, 2), (7, 2)], [(4, 5), (0, 3), (2, 4)], [(8, 9), (0, 3), (4, 6)], [(6, 1), (6, 9), (6, 0), (6, 5)], [(9, 5), (9, 3), (9, 4)], [(9, 5), (0, 2), (3, 3)], [(1, 0), (7, 6), (4, 3), (6, 5)], [(6, 9), (2, 5), (3, 6), (0, 3)], [(4, 3), (3, 6), (5, 0)], [(7, 4), (9, 5), (1, 1)], [(1, 3), (3, 1), (0, 4)], [(6, 1), (9, 4), (5, 0), (7, 2)], [(5, 9), (4, 6), (2, 0), (3, 3)], [(7, 4), (4, 5), (1, 6)]]\n"
     ]
    },
    {
     "ename": "TypeError",
     "evalue": "'PipelinedRDD' object is not iterable",
     "output_type": "error",
     "traceback": [
      "\u001b[0;31m---------------------------------------------------------------------------\u001b[0m",
      "\u001b[0;31mTypeError\u001b[0m                                 Traceback (most recent call last)",
      "\u001b[0;32m<ipython-input-114-81c43016900c>\u001b[0m in \u001b[0;36m<module>\u001b[0;34m()\u001b[0m\n\u001b[1;32m     65\u001b[0m \u001b[0;34m\u001b[0m\u001b[0m\n\u001b[1;32m     66\u001b[0m \u001b[0;34m\u001b[0m\u001b[0m\n\u001b[0;32m---> 67\u001b[0;31m \u001b[0mresult\u001b[0m \u001b[0;34m=\u001b[0m \u001b[0mprocess\u001b[0m\u001b[0;34m(\u001b[0m\u001b[0;34m'data50.txt'\u001b[0m\u001b[0;34m)\u001b[0m\u001b[0;34m\u001b[0m\u001b[0m\n\u001b[0m\u001b[1;32m     68\u001b[0m \u001b[0mprint\u001b[0m \u001b[0;34m(\u001b[0m\u001b[0mresult\u001b[0m\u001b[0;34m.\u001b[0m\u001b[0mcollect\u001b[0m\u001b[0;34m(\u001b[0m\u001b[0;34m)\u001b[0m\u001b[0;34m)\u001b[0m\u001b[0;34m\u001b[0m\u001b[0m\n\u001b[1;32m     69\u001b[0m \u001b[0;31m# a = [(4, -2), (2, -1), (-3,4), (6,3), (-9,4), (6, -3), (8,-4), (6,9)]\u001b[0m\u001b[0;34m\u001b[0m\u001b[0;34m\u001b[0m\u001b[0m\n",
      "\u001b[0;32m<ipython-input-114-81c43016900c>\u001b[0m in \u001b[0;36mprocess\u001b[0;34m(filename)\u001b[0m\n\u001b[1;32m     59\u001b[0m \u001b[0;32mdef\u001b[0m \u001b[0mprocess\u001b[0m\u001b[0;34m(\u001b[0m\u001b[0mfilename\u001b[0m\u001b[0;34m)\u001b[0m\u001b[0;34m:\u001b[0m\u001b[0;34m\u001b[0m\u001b[0m\n\u001b[1;32m     60\u001b[0m     \u001b[0mrdd\u001b[0m \u001b[0;34m=\u001b[0m \u001b[0msc\u001b[0m\u001b[0;34m.\u001b[0m\u001b[0mtextFile\u001b[0m\u001b[0;34m(\u001b[0m\u001b[0mfilename\u001b[0m\u001b[0;34m)\u001b[0m\u001b[0;34m\u001b[0m\u001b[0m\n\u001b[0;32m---> 61\u001b[0;31m     \u001b[0mrdd\u001b[0m \u001b[0;34m=\u001b[0m \u001b[0mbuild_collinear_set\u001b[0m\u001b[0;34m(\u001b[0m\u001b[0mrdd\u001b[0m\u001b[0;34m)\u001b[0m\u001b[0;34m\u001b[0m\u001b[0m\n\u001b[0m\u001b[1;32m     62\u001b[0m \u001b[0;31m#     res = set(rdd.collect())\u001b[0m\u001b[0;34m\u001b[0m\u001b[0;34m\u001b[0m\u001b[0m\n\u001b[1;32m     63\u001b[0m \u001b[0;31m#     print (res)\u001b[0m\u001b[0;34m\u001b[0m\u001b[0;34m\u001b[0m\u001b[0m\n",
      "\u001b[0;32m<ipython-input-114-81c43016900c>\u001b[0m in \u001b[0;36mbuild_collinear_set\u001b[0;34m(rdd)\u001b[0m\n\u001b[1;32m     54\u001b[0m     \u001b[0mmapped_rdd\u001b[0m \u001b[0;34m=\u001b[0m \u001b[0mrdd\u001b[0m\u001b[0;34m.\u001b[0m\u001b[0mmap\u001b[0m\u001b[0;34m(\u001b[0m\u001b[0;32mlambda\u001b[0m \u001b[0mx\u001b[0m\u001b[0;34m:\u001b[0m \u001b[0mto_tuple\u001b[0m\u001b[0;34m(\u001b[0m\u001b[0mx\u001b[0m\u001b[0;34m)\u001b[0m\u001b[0;34m)\u001b[0m\u001b[0;34m\u001b[0m\u001b[0m\n\u001b[1;32m     55\u001b[0m     \u001b[0mresult\u001b[0m \u001b[0;34m=\u001b[0m \u001b[0mfind_collinear\u001b[0m\u001b[0;34m(\u001b[0m\u001b[0mmapped_rdd\u001b[0m\u001b[0;34m)\u001b[0m\u001b[0;34m\u001b[0m\u001b[0m\n\u001b[0;32m---> 56\u001b[0;31m     \u001b[0mrdd_final\u001b[0m \u001b[0;34m=\u001b[0m \u001b[0msc\u001b[0m\u001b[0;34m.\u001b[0m\u001b[0mparallelize\u001b[0m\u001b[0;34m(\u001b[0m\u001b[0mresult\u001b[0m\u001b[0;34m)\u001b[0m\u001b[0;34m\u001b[0m\u001b[0m\n\u001b[0m\u001b[1;32m     57\u001b[0m     \u001b[0;32mreturn\u001b[0m \u001b[0mrdd\u001b[0m\u001b[0;34m\u001b[0m\u001b[0m\n\u001b[1;32m     58\u001b[0m \u001b[0;34m\u001b[0m\u001b[0m\n",
      "\u001b[0;32m/usr/local/spark/python/pyspark/context.py\u001b[0m in \u001b[0;36mparallelize\u001b[0;34m(self, c, numSlices)\u001b[0m\n\u001b[1;32m    479\u001b[0m         \u001b[0;31m# Make sure we distribute data evenly if it's smaller than self.batchSize\u001b[0m\u001b[0;34m\u001b[0m\u001b[0;34m\u001b[0m\u001b[0m\n\u001b[1;32m    480\u001b[0m         \u001b[0;32mif\u001b[0m \u001b[0;34m\"__len__\"\u001b[0m \u001b[0;32mnot\u001b[0m \u001b[0;32min\u001b[0m \u001b[0mdir\u001b[0m\u001b[0;34m(\u001b[0m\u001b[0mc\u001b[0m\u001b[0;34m)\u001b[0m\u001b[0;34m:\u001b[0m\u001b[0;34m\u001b[0m\u001b[0m\n\u001b[0;32m--> 481\u001b[0;31m             \u001b[0mc\u001b[0m \u001b[0;34m=\u001b[0m \u001b[0mlist\u001b[0m\u001b[0;34m(\u001b[0m\u001b[0mc\u001b[0m\u001b[0;34m)\u001b[0m    \u001b[0;31m# Make it a list so we can compute its length\u001b[0m\u001b[0;34m\u001b[0m\u001b[0m\n\u001b[0m\u001b[1;32m    482\u001b[0m         \u001b[0mbatchSize\u001b[0m \u001b[0;34m=\u001b[0m \u001b[0mmax\u001b[0m\u001b[0;34m(\u001b[0m\u001b[0;36m1\u001b[0m\u001b[0;34m,\u001b[0m \u001b[0mmin\u001b[0m\u001b[0;34m(\u001b[0m\u001b[0mlen\u001b[0m\u001b[0;34m(\u001b[0m\u001b[0mc\u001b[0m\u001b[0;34m)\u001b[0m \u001b[0;34m//\u001b[0m \u001b[0mnumSlices\u001b[0m\u001b[0;34m,\u001b[0m \u001b[0mself\u001b[0m\u001b[0;34m.\u001b[0m\u001b[0m_batchSize\u001b[0m \u001b[0;32mor\u001b[0m \u001b[0;36m1024\u001b[0m\u001b[0;34m)\u001b[0m\u001b[0;34m)\u001b[0m\u001b[0;34m\u001b[0m\u001b[0m\n\u001b[1;32m    483\u001b[0m         \u001b[0mserializer\u001b[0m \u001b[0;34m=\u001b[0m \u001b[0mBatchedSerializer\u001b[0m\u001b[0;34m(\u001b[0m\u001b[0mself\u001b[0m\u001b[0;34m.\u001b[0m\u001b[0m_unbatched_serializer\u001b[0m\u001b[0;34m,\u001b[0m \u001b[0mbatchSize\u001b[0m\u001b[0;34m)\u001b[0m\u001b[0;34m\u001b[0m\u001b[0m\n",
      "\u001b[0;31mTypeError\u001b[0m: 'PipelinedRDD' object is not iterable"
     ]
    }
   ],
   "source": [
    "def format_result(x):\n",
    "    x[1].append(x[0][0])\n",
    "    return tuple(x[1])\n",
    "\n",
    "def to_tuple(s):\n",
    "    parsed_s = s.split(' ')\n",
    "    res = [int(item) for item in parsed_s]\n",
    "    return tuple(res)\n",
    "    \n",
    "def non_duplicates(s):\n",
    "    a = [item for n, item in enumerate(s) if item not in s[:n]]\n",
    "    return a\n",
    "\n",
    "def get_cartesian(a):\n",
    "    res = a.cartesian(a).filter(lambda x: x[0]!=x[1])\n",
    "#     r = [item for item in b if item[0]!=item[1]]\n",
    "    return res\n",
    "    \n",
    "def find_slope(t):\n",
    "    if t[0][0]-t[1][0] == 0:\n",
    "        k = 'inf'\n",
    "    else:\n",
    "        k = (t[0][1]-t[1][1])/(t[0][0]-t[1][0])\n",
    "    return ((t[0], k), t[1])\n",
    "\n",
    "\n",
    "def to_list(a):\n",
    "    return [a]\n",
    "def append(a, b):\n",
    "    a.append(b)\n",
    "    return a\n",
    "def extend(a, b):\n",
    "    a.extend(b)\n",
    "    return a\n",
    "\n",
    "def transform_to_set(l):\n",
    "    return set\n",
    "\n",
    "def find_collinear(rdd):\n",
    "    a = get_cartesian(rdd)\n",
    "    a_with_slope = a.map(lambda x: find_slope(x))\n",
    "    res = a_with_slope.combineByKey(to_list, append, extend)\n",
    "    formated = res.map(lambda x: format_result(x))\n",
    "    processed = formated.filter(lambda x: len(x)>2)\n",
    "    trans_set = processed.map(lambda x: set(x)).collect()\n",
    "    filtered_set = [s for i, s in enumerate(trans_set) if s not in trans_set[:i]]\n",
    "    final_list = [list(s) for s in filtered_set]\n",
    "    print (final_list)\n",
    "\n",
    "    return (a_with_slope)\n",
    "#     return (a)\n",
    "\n",
    "def build_collinear_set(rdd):\n",
    "    mapped_rdd = rdd.map(lambda x: to_tuple(x))\n",
    "    result = find_collinear(mapped_rdd)\n",
    "    rdd_final = sc.parallelize(result)\n",
    "    return rdd\n",
    "    \n",
    "def process(filename):\n",
    "    rdd = sc.textFile(filename)\n",
    "    rdd = build_collinear_set(rdd)\n",
    "#     res = set(rdd.collect())\n",
    "#     print (res)\n",
    "    return rdd\n",
    "  \n",
    "\n",
    "result = process('data50.txt')\n",
    "print (result.collect())\n",
    "# a = [(4, -2), (2, -1), (-3,4), (6,3), (-9,4), (6, -3), (8,-4), (6,9)]\n",
    "# # a = [(1,2), (2, 2), (3, 4)]\n",
    "# rdd_a = sc.parallelize(a)\n",
    "# res = get_cartesian(rdd_a)\n",
    "# find_collinear(rdd_a)\n",
    "# print (find_collinear(rdd_a).collect())    "
   ]
  },
  {
   "cell_type": "code",
   "execution_count": 43,
   "metadata": {
    "ExecuteTime": {
     "end_time": "2018-09-15T20:45:25.372852Z",
     "start_time": "2018-09-15T20:45:25.352517Z"
    }
   },
   "outputs": [
    {
     "name": "stdout",
     "output_type": "stream",
     "text": [
      "[(1, 2), (3, 4), (5, 6)]\n"
     ]
    }
   ],
   "source": [
    "# some unit tests\n",
    "assert type(to_tuple('1 4')) == tuple, 'type incorrect'\n",
    "# assert type(to_tuple('1 3'))[0]==int and type(to_tuple('1 3'))[1]==int, 'incorrect element type'\n",
    "assert type(find_slope(((1,2),(3,4)))) == tuple, \"Function must return a tuple\"\n",
    "assert find_slope(((1,2),(-7,-2)))[0][1] == 0.5, \"Slope value should be 0.5\"\n",
    "assert find_slope(((1,2),(3,4))) == (((1,2),1),(3,4)), \"Incorrect return value: Value obtained does not match\"\n",
    "assert find_slope(((1,2),(1,5))) == (((1,2),\"inf\"),(1,5)), \"Incorrect return value: Value obtained must have slope 'inf'\"\n",
    "assert find_slope(((1,2),(2,5))) == (((1,2),3),(2,5)), \"Incorrect return value: Value obtained does not match\"\n",
    "\n",
    "# some regular tests\n",
    "s = ((1, 2), (3, 4), (1, 2), (5, 6))\n",
    "print (non_duplicates(s))\n",
    "\n",
    "\n",
    "b = [(1, 2), (3, 4)]\n",
    "print (find_slope(b))\n",
    "    \n",
    "a = [(1, 2), (3, 4), (5, 6)]\n",
    "rdd_a = sc.parallelize(a)\n",
    "res = get_cartesian(rdd_a)\n",
    "print (res)"
   ]
  },
  {
   "cell_type": "code",
   "execution_count": 80,
   "metadata": {
    "ExecuteTime": {
     "end_time": "2018-09-17T18:09:29.799146Z",
     "start_time": "2018-09-17T18:09:29.791738Z"
    }
   },
   "outputs": [
    {
     "name": "stdout",
     "output_type": "stream",
     "text": [
      "2\n",
      "it is two\n"
     ]
    }
   ],
   "source": [
    "b = ((2, 2), (3, 4))\n",
    "print (len(b))\n",
    "if len(b)==2:\n",
    "    print ('it is two')"
   ]
  },
  {
   "cell_type": "code",
   "execution_count": null,
   "metadata": {},
   "outputs": [],
   "source": []
  }
 ],
 "metadata": {
  "kernelspec": {
   "display_name": "Python 3",
   "language": "python",
   "name": "python3"
  },
  "language_info": {
   "codemirror_mode": {
    "name": "ipython",
    "version": 3
   },
   "file_extension": ".py",
   "mimetype": "text/x-python",
   "name": "python",
   "nbconvert_exporter": "python",
   "pygments_lexer": "ipython3",
   "version": "3.6.5"
  },
  "toc": {
   "base_numbering": 1,
   "nav_menu": {},
   "number_sections": true,
   "sideBar": true,
   "skip_h1_title": false,
   "title_cell": "Table of Contents",
   "title_sidebar": "Contents",
   "toc_cell": false,
   "toc_position": {},
   "toc_section_display": true,
   "toc_window_display": false
  },
  "varInspector": {
   "cols": {
    "lenName": 16,
    "lenType": 16,
    "lenVar": 40
   },
   "kernels_config": {
    "python": {
     "delete_cmd_postfix": "",
     "delete_cmd_prefix": "del ",
     "library": "var_list.py",
     "varRefreshCmd": "print(var_dic_list())"
    },
    "r": {
     "delete_cmd_postfix": ") ",
     "delete_cmd_prefix": "rm(",
     "library": "var_list.r",
     "varRefreshCmd": "cat(var_dic_list()) "
    }
   },
   "types_to_exclude": [
    "module",
    "function",
    "builtin_function_or_method",
    "instance",
    "_Feature"
   ],
   "window_display": false
  }
 },
 "nbformat": 4,
 "nbformat_minor": 2
}
