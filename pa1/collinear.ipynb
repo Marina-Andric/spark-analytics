{
 "cells": [
  {
   "cell_type": "code",
   "execution_count": 23,
   "metadata": {
    "ExecuteTime": {
     "end_time": "2018-09-15T19:49:52.287044Z",
     "start_time": "2018-09-15T19:49:47.056923Z"
    }
   },
   "outputs": [],
   "source": [
    "from pyspark import SparkContext\n",
    "# from pyspark.RDD import rdd\n",
    "\n",
    "sc = SparkContext(master = \"local[4]\")\n",
    "\n"
   ]
  },
  {
   "cell_type": "code",
   "execution_count": 90,
   "metadata": {
    "ExecuteTime": {
     "end_time": "2018-09-17T18:23:00.189018Z",
     "start_time": "2018-09-17T18:22:59.391440Z"
    }
   },
   "outputs": [
    {
     "name": "stdout",
     "output_type": "stream",
     "text": [
      "{((4, -2), (6, -3), (8, -4), (2, -1)), ((4, -2), (2, -1), (6, -3), (8, -4)), ((4, -2), (2, -1), (8, -4), (6, -3)), ((6, -3), (6, 9), (6, 3)), ((6, 3), (6, -3), (6, 9)), ((6, 3), (6, 9), (6, -3)), ((2, -1), (6, -3), (8, -4), (4, -2))}\n"
     ]
    },
    {
     "data": {
      "text/plain": [
       "PythonRDD[359] at RDD at PythonRDD.scala:48"
      ]
     },
     "execution_count": 90,
     "metadata": {},
     "output_type": "execute_result"
    }
   ],
   "source": [
    "def format_result(x):\n",
    "    x[1].append(x[0][0])\n",
    "    return tuple(x[1])\n",
    "\n",
    "def to_tuple(s):\n",
    "    parsed_s = s.split(' ')\n",
    "    res = [int(item) for item in parsed_s]\n",
    "    return tuple(res)\n",
    "    \n",
    "def non_duplicates(s):\n",
    "    a = [item for n, item in enumerate(s) if item not in s[:n]]\n",
    "    return a\n",
    "\n",
    "def get_cartesian(a):\n",
    "    res = a.cartesian(a).filter(lambda x: x[0]!=x[1])\n",
    "#     r = [item for item in b if item[0]!=item[1]]\n",
    "    return res\n",
    "    \n",
    "def find_slope(t):\n",
    "    if t[0][0]-t[1][0] == 0:\n",
    "        k = 'inf'\n",
    "    else:\n",
    "        k = (t[0][1]-t[1][1])/(t[0][0]-t[1][0])\n",
    "    return ((t[0], k), t[1])\n",
    "\n",
    "\n",
    "def to_list(a):\n",
    "    return [a]\n",
    "def append(a, b):\n",
    "    a.append(b)\n",
    "    return a\n",
    "def extend(a, b):\n",
    "    a.extend(b)\n",
    "    return a\n",
    "\n",
    "def find_collinear(rdd):\n",
    "    a = get_cartesian(rdd)\n",
    "    a_with_slope = a.map(lambda x: find_slope(x))\n",
    "    res = a_with_slope.combineByKey(to_list, append, extend)\n",
    "    formated = res.map(lambda x: format_result(x))\n",
    "    processed = formated.filter(lambda x: len(x)>2).collect()\n",
    "    set_p = [item for item in processed]\n",
    "    print (set_p)\n",
    "\n",
    "    return (a_with_slope)\n",
    "#     return (a)\n",
    "\n",
    "def build_collinear_set(rdd):\n",
    "    return rdd\n",
    "    \n",
    "def process(filename):\n",
    "    rdd = sc.textFile(filename)\n",
    "    rdd = build_collinear_set(rdd)\n",
    "    res = set(rdd.collect())\n",
    "    return res\n",
    "  \n",
    "\n",
    "a = [(4, -2), (2, -1), (-3,4), (6,3), (-9,4), (6, -3), (8,-4), (6,9)]\n",
    "# a = [(1,2), (2, 2), (3, 4)]\n",
    "rdd_a = sc.parallelize(a)\n",
    "res = get_cartesian(rdd_a)\n",
    "find_collinear(rdd_a)\n",
    "# print (find_collinear(rdd_a).collect())    "
   ]
  },
  {
   "cell_type": "code",
   "execution_count": 43,
   "metadata": {
    "ExecuteTime": {
     "end_time": "2018-09-15T20:45:25.372852Z",
     "start_time": "2018-09-15T20:45:25.352517Z"
    }
   },
   "outputs": [
    {
     "name": "stdout",
     "output_type": "stream",
     "text": [
      "[(1, 2), (3, 4), (5, 6)]\n"
     ]
    }
   ],
   "source": [
    "# some unit tests\n",
    "assert type(to_tuple('1 4')) == tuple, 'type incorrect'\n",
    "# assert type(to_tuple('1 3'))[0]==int and type(to_tuple('1 3'))[1]==int, 'incorrect element type'\n",
    "assert type(find_slope(((1,2),(3,4)))) == tuple, \"Function must return a tuple\"\n",
    "assert find_slope(((1,2),(-7,-2)))[0][1] == 0.5, \"Slope value should be 0.5\"\n",
    "assert find_slope(((1,2),(3,4))) == (((1,2),1),(3,4)), \"Incorrect return value: Value obtained does not match\"\n",
    "assert find_slope(((1,2),(1,5))) == (((1,2),\"inf\"),(1,5)), \"Incorrect return value: Value obtained must have slope 'inf'\"\n",
    "assert find_slope(((1,2),(2,5))) == (((1,2),3),(2,5)), \"Incorrect return value: Value obtained does not match\"\n",
    "\n",
    "# some regular tests\n",
    "s = ((1, 2), (3, 4), (1, 2), (5, 6))\n",
    "print (non_duplicates(s))\n",
    "\n",
    "\n",
    "b = [(1, 2), (3, 4)]\n",
    "print (find_slope(b))\n",
    "    \n",
    "a = [(1, 2), (3, 4), (5, 6)]\n",
    "rdd_a = sc.parallelize(a)\n",
    "res = get_cartesian(rdd_a)\n",
    "print (res)"
   ]
  },
  {
   "cell_type": "code",
   "execution_count": 80,
   "metadata": {
    "ExecuteTime": {
     "end_time": "2018-09-17T18:09:29.799146Z",
     "start_time": "2018-09-17T18:09:29.791738Z"
    }
   },
   "outputs": [
    {
     "name": "stdout",
     "output_type": "stream",
     "text": [
      "2\n",
      "it is two\n"
     ]
    }
   ],
   "source": [
    "b = ((2, 2), (3, 4))\n",
    "print (len(b))\n",
    "if len(b)==2:\n",
    "    print ('it is two')"
   ]
  },
  {
   "cell_type": "code",
   "execution_count": null,
   "metadata": {},
   "outputs": [],
   "source": []
  }
 ],
 "metadata": {
  "kernelspec": {
   "display_name": "Python 3",
   "language": "python",
   "name": "python3"
  },
  "language_info": {
   "codemirror_mode": {
    "name": "ipython",
    "version": 3
   },
   "file_extension": ".py",
   "mimetype": "text/x-python",
   "name": "python",
   "nbconvert_exporter": "python",
   "pygments_lexer": "ipython3",
   "version": "3.6.5"
  },
  "toc": {
   "base_numbering": 1,
   "nav_menu": {},
   "number_sections": true,
   "sideBar": true,
   "skip_h1_title": false,
   "title_cell": "Table of Contents",
   "title_sidebar": "Contents",
   "toc_cell": false,
   "toc_position": {},
   "toc_section_display": true,
   "toc_window_display": false
  },
  "varInspector": {
   "cols": {
    "lenName": 16,
    "lenType": 16,
    "lenVar": 40
   },
   "kernels_config": {
    "python": {
     "delete_cmd_postfix": "",
     "delete_cmd_prefix": "del ",
     "library": "var_list.py",
     "varRefreshCmd": "print(var_dic_list())"
    },
    "r": {
     "delete_cmd_postfix": ") ",
     "delete_cmd_prefix": "rm(",
     "library": "var_list.r",
     "varRefreshCmd": "cat(var_dic_list()) "
    }
   },
   "types_to_exclude": [
    "module",
    "function",
    "builtin_function_or_method",
    "instance",
    "_Feature"
   ],
   "window_display": false
  }
 },
 "nbformat": 4,
 "nbformat_minor": 2
}
