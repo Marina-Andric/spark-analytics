{
 "cells": [
  {
   "cell_type": "code",
   "execution_count": 16,
   "metadata": {
    "ExecuteTime": {
     "end_time": "2018-09-30T13:51:48.934072Z",
     "start_time": "2018-09-30T13:51:48.371692Z"
    }
   },
   "outputs": [],
   "source": [
    "#rdd op -> transformation, action and shuffle\n",
    "from pyspark import SparkContext\n",
    "\n",
    "sc.stop()\n",
    "sc = SparkContext(master = 'local[4]')"
   ]
  },
  {
   "cell_type": "code",
   "execution_count": 17,
   "metadata": {
    "ExecuteTime": {
     "end_time": "2018-09-30T13:51:50.798717Z",
     "start_time": "2018-09-30T13:51:48.935593Z"
    }
   },
   "outputs": [
    {
     "name": "stdout",
     "output_type": "stream",
     "text": [
      "after transformation:  [(1, 2), (2, 10)]\n",
      "sorted:  [(2, 4), (3, 1), (5, 3)]\n",
      "mapValues:  [(2, 16), (3, 1), (5, 9)]\n",
      "groupValues:  [(5, [3]), (2, [4]), (3, [1])]\n",
      "flatMapValues [(1, 2), (1, 3), (2, 4), (2, 5), (2, 6), (2, 7)]\n"
     ]
    }
   ],
   "source": [
    "rdd = sc.parallelize([(1, 2), (2, 4), (2, 6)])\n",
    "print ('after transformation: ', rdd.reduceByKey(lambda x,y: x+y).collect())\n",
    "\n",
    "rdd = sc.parallelize([(2, 4), (3, 1), (5, 3)])\n",
    "print ('sorted: ',rdd.sortByKey().collect())\n",
    "\n",
    "print ('mapValues: ', rdd.mapValues(lambda x:x*x).collect())\n",
    "\n",
    "print ('groupValues: ', rdd.groupByKey().mapValues(lambda x:[a for a in x]).collect())\n",
    "\n",
    "rdd = sc.parallelize([(1, 2), (2, 4), (2, 6)])\n",
    "print ('flatMapValues', rdd.flatMapValues(lambda x:range(x, x+2)).collect())\n",
    "\n",
    "#substractByKey\n",
    "\n",
    "#join \n",
    "\n"
   ]
  },
  {
   "cell_type": "code",
   "execution_count": 22,
   "metadata": {
    "ExecuteTime": {
     "end_time": "2018-09-30T14:02:56.266650Z",
     "start_time": "2018-09-30T14:02:55.908311Z"
    }
   },
   "outputs": [
    {
     "name": "stdout",
     "output_type": "stream",
     "text": [
      "[('Work', (14, 3)), ('Play', (12, 3)), ('Sleep', (21, 3))]\n",
      "[('Work', 4.666666666666667), ('Play', 4.0), ('Sleep', 7.0)]\n"
     ]
    }
   ],
   "source": [
    "# advanced combineByKey\n",
    "rdd = sc.parallelize([(\"Sleep\", 7), (\"Work\",5), (\"Play\", 3), \n",
    "                      (\"Sleep\", 6), (\"Work\",4), (\"Play\", 4),\n",
    "                      (\"Sleep\", 8), (\"Work\",5), (\"Play\", 5)])\n",
    "\n",
    "# createCombiner, mergeValues, mergeCombiners\n",
    "sum_counts_rdd = rdd.combineByKey((lambda x: (x, 1)), (lambda v1, v2: (v1[0]+v2[0], v1[0]+1)), (lambda x, y: (x[0]+y[0], x[1]+y[1])))\n",
    "print (sum_counts_rdd.collect())\n",
    "\n",
    "duration_avg_by_activity = sum_counts_rdd.mapValues(lambda x: x[0]/x[1]).collect()\n",
    "print (duration_avg_by_activity)"
   ]
  },
  {
   "cell_type": "code",
   "execution_count": 25,
   "metadata": {
    "ExecuteTime": {
     "end_time": "2018-09-30T14:05:33.622535Z",
     "start_time": "2018-09-30T14:05:33.387134Z"
    }
   },
   "outputs": [
    {
     "name": "stdout",
     "output_type": "stream",
     "text": [
      "defaultdict(<class 'int'>, {1: 2, 2: 1})\n",
      "[2, 3]\n"
     ]
    }
   ],
   "source": [
    "# actions \n",
    "rdd = sc.parallelize([(1, 2), (1, 3), (2, 4)])\n",
    "res = rdd.countByKey()\n",
    "print (res)\n",
    "print (rdd.lookup(1))\n",
    "\n"
   ]
  }
 ],
 "metadata": {
  "kernelspec": {
   "display_name": "Python 3",
   "language": "python",
   "name": "python3"
  },
  "language_info": {
   "codemirror_mode": {
    "name": "ipython",
    "version": 3
   },
   "file_extension": ".py",
   "mimetype": "text/x-python",
   "name": "python",
   "nbconvert_exporter": "python",
   "pygments_lexer": "ipython3",
   "version": "3.6.5"
  },
  "toc": {
   "base_numbering": 1,
   "nav_menu": {},
   "number_sections": true,
   "sideBar": true,
   "skip_h1_title": false,
   "title_cell": "Table of Contents",
   "title_sidebar": "Contents",
   "toc_cell": false,
   "toc_position": {},
   "toc_section_display": true,
   "toc_window_display": false
  },
  "varInspector": {
   "cols": {
    "lenName": 16,
    "lenType": 16,
    "lenVar": 40
   },
   "kernels_config": {
    "python": {
     "delete_cmd_postfix": "",
     "delete_cmd_prefix": "del ",
     "library": "var_list.py",
     "varRefreshCmd": "print(var_dic_list())"
    },
    "r": {
     "delete_cmd_postfix": ") ",
     "delete_cmd_prefix": "rm(",
     "library": "var_list.r",
     "varRefreshCmd": "cat(var_dic_list()) "
    }
   },
   "types_to_exclude": [
    "module",
    "function",
    "builtin_function_or_method",
    "instance",
    "_Feature"
   ],
   "window_display": false
  }
 },
 "nbformat": 4,
 "nbformat_minor": 2
}
