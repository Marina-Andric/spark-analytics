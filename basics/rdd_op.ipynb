{
 "cells": [
  {
   "cell_type": "code",
   "execution_count": 10,
   "metadata": {
    "ExecuteTime": {
     "end_time": "2018-09-23T18:40:48.246734Z",
     "start_time": "2018-09-23T18:40:47.210601Z"
    }
   },
   "outputs": [],
   "source": [
    "# RDD operations\n",
    "from pyspark import SparkContext\n",
    "\n",
    "sc = SparkContext(master = 'local[4]')\n"
   ]
  },
  {
   "cell_type": "code",
   "execution_count": 12,
   "metadata": {
    "ExecuteTime": {
     "end_time": "2018-09-23T18:43:27.911199Z",
     "start_time": "2018-09-23T18:43:27.296805Z"
    }
   },
   "outputs": [
    {
     "name": "stdout",
     "output_type": "stream",
     "text": [
      "test\n",
      "first element  1\n",
      "first 5 elements  [1, 2, 3, 4, 1]\n"
     ]
    }
   ],
   "source": [
    "n = 100\n",
    "A = sc.parallelize([1, 2, 3, 4]*int(n/4))\n",
    "\n",
    "print ('test')\n",
    "print ('first element ', A.first())\n",
    "print ('first 5 elements ', A.take(5))"
   ]
  },
  {
   "cell_type": "code",
   "execution_count": 14,
   "metadata": {
    "ExecuteTime": {
     "end_time": "2018-09-23T18:43:47.245431Z",
     "start_time": "2018-09-23T18:43:46.981594Z"
    }
   },
   "outputs": [
    {
     "name": "stdout",
     "output_type": "stream",
     "text": [
      "[2, 4, 1, 4, 1, 1, 2, 3, 4, 1, 2]\n",
      "[2, 1, 4, 3, 1, 3, 2, 3, 3, 3, 2, 3, 1, 1, 1, 4, 2, 3, 4, 2, 3, 1]\n"
     ]
    }
   ],
   "source": [
    "\n",
    "print (A.sample(False, 0.1).collect())\n",
    "print (A.sample(False, 0.2).collect())"
   ]
  },
  {
   "cell_type": "code",
   "execution_count": 17,
   "metadata": {
    "ExecuteTime": {
     "end_time": "2018-09-23T18:46:55.196220Z",
     "start_time": "2018-09-23T18:46:54.107897Z"
    }
   },
   "outputs": [
    {
     "name": "stdout",
     "output_type": "stream",
     "text": [
      "unique  [4, 1, 2, 3]\n"
     ]
    }
   ],
   "source": [
    "B = sc.parallelize([1, 3, 3, 4, 2])\n",
    "print ('unique ', B.distinct().collect())"
   ]
  },
  {
   "cell_type": "code",
   "execution_count": 19,
   "metadata": {
    "ExecuteTime": {
     "end_time": "2018-09-23T18:50:28.148827Z",
     "start_time": "2018-09-23T18:50:27.903578Z"
    }
   },
   "outputs": [
    {
     "name": "stdout",
     "output_type": "stream",
     "text": [
      "[['you', 'are', 'my', 'sunshine', ''], ['my', 'only', 'sunshine']]\n",
      "['you', 'are', 'my', 'sunshine', '', 'my', 'only', 'sunshine']\n"
     ]
    }
   ],
   "source": [
    "C = sc.parallelize(['you are my sunshine ', 'my only sunshine'])\n",
    "print (C.map(lambda x: x.split(' ')).collect())\n",
    "print (C.flatMap(lambda x: x.split(' ')).collect())"
   ]
  },
  {
   "cell_type": "code",
   "execution_count": 20,
   "metadata": {
    "ExecuteTime": {
     "end_time": "2018-09-23T18:53:38.506852Z",
     "start_time": "2018-09-23T18:53:37.912647Z"
    }
   },
   "outputs": [
    {
     "name": "stdout",
     "output_type": "stream",
     "text": [
      "union:  ['a', 'b', 'c', 1, 'b', 2, 2]\n",
      "distinct union:  ['a', 1, 2, 'b', 'c']\n"
     ]
    }
   ],
   "source": [
    "a = sc.parallelize(['a', 'b', 'c', 1])\n",
    "b = sc.parallelize(['b', 2, 2])\n",
    "\n",
    "ab_union = a.union(b).collect()\n",
    "ab_union_distinct = a.union(b).distinct().collect() # expensive operation\n",
    "\n",
    "print ('union: ', ab_union)\n",
    "print ('distinct union: ', ab_union_distinct)\n",
    "\n",
    "#intersect, substract, cartesian"
   ]
  }
 ],
 "metadata": {
  "kernelspec": {
   "display_name": "Python 3",
   "language": "python",
   "name": "python3"
  },
  "language_info": {
   "codemirror_mode": {
    "name": "ipython",
    "version": 3
   },
   "file_extension": ".py",
   "mimetype": "text/x-python",
   "name": "python",
   "nbconvert_exporter": "python",
   "pygments_lexer": "ipython3",
   "version": "3.6.5"
  },
  "toc": {
   "base_numbering": 1,
   "nav_menu": {},
   "number_sections": true,
   "sideBar": true,
   "skip_h1_title": false,
   "title_cell": "Table of Contents",
   "title_sidebar": "Contents",
   "toc_cell": false,
   "toc_position": {},
   "toc_section_display": true,
   "toc_window_display": false
  },
  "varInspector": {
   "cols": {
    "lenName": 16,
    "lenType": 16,
    "lenVar": 40
   },
   "kernels_config": {
    "python": {
     "delete_cmd_postfix": "",
     "delete_cmd_prefix": "del ",
     "library": "var_list.py",
     "varRefreshCmd": "print(var_dic_list())"
    },
    "r": {
     "delete_cmd_postfix": ") ",
     "delete_cmd_prefix": "rm(",
     "library": "var_list.r",
     "varRefreshCmd": "cat(var_dic_list()) "
    }
   },
   "types_to_exclude": [
    "module",
    "function",
    "builtin_function_or_method",
    "instance",
    "_Feature"
   ],
   "window_display": false
  }
 },
 "nbformat": 4,
 "nbformat_minor": 2
}
