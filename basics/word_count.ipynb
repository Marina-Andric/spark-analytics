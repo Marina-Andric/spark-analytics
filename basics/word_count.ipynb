{
 "cells": [
  {
   "cell_type": "code",
   "execution_count": 26,
   "metadata": {
    "ExecuteTime": {
     "end_time": "2018-09-25T21:35:15.059139Z",
     "start_time": "2018-09-25T21:35:14.109521Z"
    }
   },
   "outputs": [],
   "source": [
    "# word count\n",
    "from pyspark import SparkContext\n",
    "\n",
    "sc = SparkContext(master = 'local[4]')"
   ]
  },
  {
   "cell_type": "code",
   "execution_count": 27,
   "metadata": {
    "ExecuteTime": {
     "end_time": "2018-09-25T21:35:24.326764Z",
     "start_time": "2018-09-25T21:35:15.063447Z"
    }
   },
   "outputs": [
    {
     "data": {
      "text/plain": [
       "1257260"
      ]
     },
     "execution_count": 27,
     "metadata": {},
     "output_type": "execute_result"
    }
   ],
   "source": [
    "import requests\n",
    "url = \"https://mas-dse-open.s3.amazonaws.com/Moby-Dick.txt\"\n",
    "local_path = \"Moby-Dick.txt\"\n",
    "r = requests.get(url, allow_redirects=True)\n",
    "open(local_path, 'wb').write(r.content)"
   ]
  },
  {
   "cell_type": "code",
   "execution_count": 28,
   "metadata": {
    "ExecuteTime": {
     "end_time": "2018-09-25T21:35:25.099651Z",
     "start_time": "2018-09-25T21:35:24.337894Z"
    }
   },
   "outputs": [
    {
     "name": "stdout",
     "output_type": "stream",
     "text": [
      "['The Project Gutenberg EBook of Moby Dick; or The Whale, by Herman Melville']\n"
     ]
    }
   ],
   "source": [
    "text_file = sc.textFile(\"Moby-Dick.txt\")\n",
    "type(text_file)\n",
    "print (text_file.take(1))"
   ]
  },
  {
   "cell_type": "code",
   "execution_count": 29,
   "metadata": {
    "ExecuteTime": {
     "end_time": "2018-09-25T21:35:26.081018Z",
     "start_time": "2018-09-25T21:35:25.113507Z"
    }
   },
   "outputs": [
    {
     "name": "stdout",
     "output_type": "stream",
     "text": [
      "215133\n",
      "CPU times: user 10 ms, sys: 20 ms, total: 30 ms\n",
      "Wall time: 960 ms\n"
     ]
    }
   ],
   "source": [
    "%%time\n",
    "words = text_file.flatMap(lambda line: line.split(' '))\n",
    "non_empty = words.filter(lambda x: x!='')\n",
    "key_value = non_empty.map(lambda word: (word, 1))\n",
    "counts = key_value.reduceByKey(lambda a,b: a+b)\n",
    "Sum = counts.map(lambda x: x[1]).reduce(lambda x, y: x+y)\n",
    "print (Sum)"
   ]
  },
  {
   "cell_type": "code",
   "execution_count": 30,
   "metadata": {
    "ExecuteTime": {
     "end_time": "2018-09-25T21:35:26.313307Z",
     "start_time": "2018-09-25T21:35:26.088306Z"
    }
   },
   "outputs": [
    {
     "name": "stdout",
     "output_type": "stream",
     "text": [
      "top 5 most common words:  [('to', 4510), ('a', 4533), ('and', 5951), ('of', 6587), ('the', 13766)]\n"
     ]
    }
   ],
   "source": [
    "# most frequent words\n",
    "\n",
    "#method 1 - on the head node\n",
    "C = counts.collect()\n",
    "C.sort(key = lambda x: x[1])\n",
    "print ('top 5 most common words: ', C[-5:])\n",
    "\n"
   ]
  },
  {
   "cell_type": "code",
   "execution_count": 35,
   "metadata": {
    "ExecuteTime": {
     "end_time": "2018-09-25T21:36:33.099723Z",
     "start_time": "2018-09-25T21:36:32.562783Z"
    }
   },
   "outputs": [
    {
     "name": "stdout",
     "output_type": "stream",
     "text": [
      "most common words\n",
      "13766:\tthe\n",
      "6587:\tof\n",
      "5951:\tand\n",
      "4533:\ta\n",
      "4510:\tto\n"
     ]
    }
   ],
   "source": [
    "#method 2 - collect at the end\n",
    "reversed_counts = counts.map(lambda x: (x[1], x[0]))\n",
    "sorted_counts = reversed_counts.sortByKey(ascending = False)\n",
    "D = sorted_counts.take(5)\n",
    "print ('most common words\\n' + '\\n'.join(['%d:\\t%s'%c for c in D]))"
   ]
  },
  {
   "cell_type": "code",
   "execution_count": null,
   "metadata": {},
   "outputs": [],
   "source": []
  }
 ],
 "metadata": {
  "kernelspec": {
   "display_name": "Python 3",
   "language": "python",
   "name": "python3"
  },
  "language_info": {
   "codemirror_mode": {
    "name": "ipython",
    "version": 3
   },
   "file_extension": ".py",
   "mimetype": "text/x-python",
   "name": "python",
   "nbconvert_exporter": "python",
   "pygments_lexer": "ipython3",
   "version": "3.6.5"
  },
  "toc": {
   "base_numbering": 1,
   "nav_menu": {},
   "number_sections": true,
   "sideBar": true,
   "skip_h1_title": false,
   "title_cell": "Table of Contents",
   "title_sidebar": "Contents",
   "toc_cell": false,
   "toc_position": {},
   "toc_section_display": true,
   "toc_window_display": false
  },
  "varInspector": {
   "cols": {
    "lenName": 16,
    "lenType": 16,
    "lenVar": 40
   },
   "kernels_config": {
    "python": {
     "delete_cmd_postfix": "",
     "delete_cmd_prefix": "del ",
     "library": "var_list.py",
     "varRefreshCmd": "print(var_dic_list())"
    },
    "r": {
     "delete_cmd_postfix": ") ",
     "delete_cmd_prefix": "rm(",
     "library": "var_list.r",
     "varRefreshCmd": "cat(var_dic_list()) "
    }
   },
   "types_to_exclude": [
    "module",
    "function",
    "builtin_function_or_method",
    "instance",
    "_Feature"
   ],
   "window_display": false
  }
 },
 "nbformat": 4,
 "nbformat_minor": 2
}
