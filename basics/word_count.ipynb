{
 "cells": [
  {
   "cell_type": "code",
   "execution_count": 1,
   "metadata": {
    "ExecuteTime": {
     "end_time": "2018-09-23T20:21:18.132375Z",
     "start_time": "2018-09-23T20:21:11.396247Z"
    }
   },
   "outputs": [],
   "source": [
    "# word count\n",
    "from pyspark import SparkContext\n",
    "\n",
    "sc = SparkContext(master = 'local[4]')"
   ]
  },
  {
   "cell_type": "code",
   "execution_count": 3,
   "metadata": {
    "ExecuteTime": {
     "end_time": "2018-09-23T20:46:13.523104Z",
     "start_time": "2018-09-23T20:46:10.882419Z"
    }
   },
   "outputs": [
    {
     "data": {
      "text/plain": [
       "1257260"
      ]
     },
     "execution_count": 3,
     "metadata": {},
     "output_type": "execute_result"
    }
   ],
   "source": [
    "import requests\n",
    "url = \"https://mas-dse-open.s3.amazonaws.com/Moby-Dick.txt\"\n",
    "local_path = \"Moby-Dick.txt\"\n",
    "r = requests.get(url, allow_redirects=True)\n",
    "open(local_path, 'wb').write(r.content)"
   ]
  },
  {
   "cell_type": "code",
   "execution_count": 5,
   "metadata": {
    "ExecuteTime": {
     "end_time": "2018-09-23T20:50:36.817433Z",
     "start_time": "2018-09-23T20:50:35.121496Z"
    }
   },
   "outputs": [
    {
     "name": "stdout",
     "output_type": "stream",
     "text": [
      "['The Project Gutenberg EBook of Moby Dick; or The Whale, by Herman Melville']\n"
     ]
    }
   ],
   "source": [
    "text_file = sc.textFile(\"Moby-Dick.txt\")\n",
    "type(text_file)\n",
    "print (text_file.take(1))"
   ]
  },
  {
   "cell_type": "code",
   "execution_count": 11,
   "metadata": {
    "ExecuteTime": {
     "end_time": "2018-09-23T21:07:26.377806Z",
     "start_time": "2018-09-23T21:07:25.941855Z"
    }
   },
   "outputs": [
    {
     "name": "stdout",
     "output_type": "stream",
     "text": [
      "215133\n",
      "CPU times: user 0 ns, sys: 20 ms, total: 20 ms\n",
      "Wall time: 409 ms\n"
     ]
    }
   ],
   "source": [
    "%%time\n",
    "words = text_file.flatMap(lambda line: line.split(' '))\n",
    "non_empty = words.filter(lambda x: x!='')\n",
    "key_value = non_empty.map(lambda word: (word, 1))\n",
    "counts = key_value.reduceByKey(lambda a,b: a+b)\n",
    "Sum = counts.map(lambda x: x[1]).reduce(lambda x, y: x+y)\n",
    "print (Sum)"
   ]
  },
  {
   "cell_type": "code",
   "execution_count": null,
   "metadata": {},
   "outputs": [],
   "source": []
  }
 ],
 "metadata": {
  "kernelspec": {
   "display_name": "Python 3",
   "language": "python",
   "name": "python3"
  },
  "language_info": {
   "codemirror_mode": {
    "name": "ipython",
    "version": 3
   },
   "file_extension": ".py",
   "mimetype": "text/x-python",
   "name": "python",
   "nbconvert_exporter": "python",
   "pygments_lexer": "ipython3",
   "version": "3.6.5"
  },
  "toc": {
   "base_numbering": 1,
   "nav_menu": {},
   "number_sections": true,
   "sideBar": true,
   "skip_h1_title": false,
   "title_cell": "Table of Contents",
   "title_sidebar": "Contents",
   "toc_cell": false,
   "toc_position": {},
   "toc_section_display": true,
   "toc_window_display": false
  },
  "varInspector": {
   "cols": {
    "lenName": 16,
    "lenType": 16,
    "lenVar": 40
   },
   "kernels_config": {
    "python": {
     "delete_cmd_postfix": "",
     "delete_cmd_prefix": "del ",
     "library": "var_list.py",
     "varRefreshCmd": "print(var_dic_list())"
    },
    "r": {
     "delete_cmd_postfix": ") ",
     "delete_cmd_prefix": "rm(",
     "library": "var_list.r",
     "varRefreshCmd": "cat(var_dic_list()) "
    }
   },
   "types_to_exclude": [
    "module",
    "function",
    "builtin_function_or_method",
    "instance",
    "_Feature"
   ],
   "window_display": false
  }
 },
 "nbformat": 4,
 "nbformat_minor": 2
}
