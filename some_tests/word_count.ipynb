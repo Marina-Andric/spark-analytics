{
 "cells": [
  {
   "cell_type": "code",
   "execution_count": 5,
   "metadata": {
    "ExecuteTime": {
     "end_time": "2018-09-08T21:05:47.763665Z",
     "start_time": "2018-09-08T21:05:47.757816Z"
    }
   },
   "outputs": [],
   "source": [
    "line = \"Lorem Ipsum is simply dummy text of the printing and typesetting industry. Lorem Ipsum has been the industry's standard dummy text ever since the 1500s, when an unknown printer took a galley of type and scrambled it to make a type specimen book. It has survived not only five centuries, but also the leap into electronic typesetting, remaining essentially unchanged. It was popularised in the 1960s with the release of Letraset sheets containing Lorem Ipsum passages, and more recently with desktop publishing software like Aldus PageMaker including versions of Lorem Ipsum.\""
   ]
  },
  {
   "cell_type": "code",
   "execution_count": 2,
   "metadata": {
    "ExecuteTime": {
     "end_time": "2018-09-08T21:03:38.482028Z",
     "start_time": "2018-09-08T21:03:33.285038Z"
    }
   },
   "outputs": [],
   "source": [
    "from pyspark import SparkContext\n",
    "sc = SparkContext(master=\"local[4]\")"
   ]
  },
  {
   "cell_type": "code",
   "execution_count": 7,
   "metadata": {
    "ExecuteTime": {
     "end_time": "2018-09-08T21:11:38.828522Z",
     "start_time": "2018-09-08T21:11:37.407815Z"
    }
   },
   "outputs": [
    {
     "name": "stdout",
     "output_type": "stream",
     "text": [
      "[('Lorem', 4), ('Ipsum', 3), ('of', 4), ('printing', 1), (\"industry's\", 1), ('ever', 1), ('when', 1), ('an', 1), ('unknown', 1), ('type', 2), ('book.', 1), ('It', 2), ('only', 1), ('but', 1), ('typesetting,', 1), ('remaining', 1), ('was', 1), ('in', 1), ('like', 1), ('Aldus', 1), ('versions', 1), ('simply', 1), ('text', 2), ('the', 6), ('and', 3), ('has', 2), ('standard', 1), ('a', 2), ('scrambled', 1), ('to', 1), ('specimen', 1), ('centuries,', 1), ('containing', 1), ('recently', 1), ('software', 1), ('Ipsum.', 1), ('is', 1), ('dummy', 2), ('typesetting', 1), ('1500s,', 1), ('took', 1), ('galley', 1), ('make', 1), ('into', 1), ('essentially', 1), ('1960s', 1), ('passages,', 1), ('more', 1), ('desktop', 1), ('PageMaker', 1), ('industry.', 1), ('been', 1), ('since', 1), ('printer', 1), ('it', 1), ('survived', 1), ('not', 1), ('five', 1), ('also', 1), ('leap', 1), ('electronic', 1), ('unchanged.', 1), ('popularised', 1), ('with', 2), ('release', 1), ('Letraset', 1), ('sheets', 1), ('publishing', 1), ('including', 1)]\n"
     ]
    }
   ],
   "source": [
    "words = line.split(\" \")\n",
    "# print (words)\n",
    "A = sc.parallelize(words)\n",
    "B = A.map(lambda x:(x, 1)).reduceByKey(lambda x, y:x+y)\n",
    "print (B.collect())\n"
   ]
  },
  {
   "cell_type": "code",
   "execution_count": 11,
   "metadata": {
    "ExecuteTime": {
     "end_time": "2018-09-08T21:58:26.392643Z",
     "start_time": "2018-09-08T21:58:26.222707Z"
    }
   },
   "outputs": [
    {
     "name": "stdout",
     "output_type": "stream",
     "text": [
      "<list_reverseiterator object at 0x7fa75c2ed630>\n"
     ]
    }
   ],
   "source": [
    "# find 5 most common words\n",
    "# 1 local\n",
    "C = B.collect()\n",
    "C.sort(key = lambda x:x[1])\n",
    "print (C[-5:])"
   ]
  },
  {
   "cell_type": "code",
   "execution_count": 13,
   "metadata": {
    "ExecuteTime": {
     "end_time": "2018-09-08T22:06:08.316857Z",
     "start_time": "2018-09-08T22:06:07.820062Z"
    }
   },
   "outputs": [
    {
     "name": "stdout",
     "output_type": "stream",
     "text": [
      "[(6, 'the'), (4, 'Lorem'), (4, 'of'), (3, 'Ipsum'), (3, 'and')]\n"
     ]
    }
   ],
   "source": [
    "# 2 distributed\n",
    "reversedB = B.map(lambda x:(x[1], x[0]))\n",
    "sortedB = reversedB.sortByKey(ascending=False)\n",
    "print (sortedB.take(5))"
   ]
  },
  {
   "cell_type": "code",
   "execution_count": null,
   "metadata": {},
   "outputs": [],
   "source": []
  }
 ],
 "metadata": {
  "kernelspec": {
   "display_name": "Python 3",
   "language": "python",
   "name": "python3"
  },
  "language_info": {
   "codemirror_mode": {
    "name": "ipython",
    "version": 3
   },
   "file_extension": ".py",
   "mimetype": "text/x-python",
   "name": "python",
   "nbconvert_exporter": "python",
   "pygments_lexer": "ipython3",
   "version": "3.6.5"
  },
  "toc": {
   "base_numbering": 1,
   "nav_menu": {},
   "number_sections": true,
   "sideBar": true,
   "skip_h1_title": false,
   "title_cell": "Table of Contents",
   "title_sidebar": "Contents",
   "toc_cell": false,
   "toc_position": {},
   "toc_section_display": true,
   "toc_window_display": false
  },
  "varInspector": {
   "cols": {
    "lenName": 16,
    "lenType": 16,
    "lenVar": 40
   },
   "kernels_config": {
    "python": {
     "delete_cmd_postfix": "",
     "delete_cmd_prefix": "del ",
     "library": "var_list.py",
     "varRefreshCmd": "print(var_dic_list())"
    },
    "r": {
     "delete_cmd_postfix": ") ",
     "delete_cmd_prefix": "rm(",
     "library": "var_list.r",
     "varRefreshCmd": "cat(var_dic_list()) "
    }
   },
   "types_to_exclude": [
    "module",
    "function",
    "builtin_function_or_method",
    "instance",
    "_Feature"
   ],
   "window_display": false
  }
 },
 "nbformat": 4,
 "nbformat_minor": 2
}
